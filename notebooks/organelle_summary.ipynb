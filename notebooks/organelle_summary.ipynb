{
 "cells": [
  {
   "cell_type": "code",
   "execution_count": 1,
   "id": "a1e7d5b7",
   "metadata": {},
   "outputs": [],
   "source": [
    "import os\n",
    "\n",
    "import numpy as np\n",
    "import yaml\n",
    "import zarr\n",
    "from pydantic import TypeAdapter\n",
    "\n",
    "from organelle_mapping.config import DataConfig\n",
    "from organelle_mapping import utils\n"
   ]
  },
  {
   "cell_type": "code",
   "execution_count": 2,
   "id": "56ad4bf3",
   "metadata": {},
   "outputs": [],
   "source": [
    "LABELS = \"../label.yaml\"\n",
    "DATA = \"../data_8nm_org+mem.yaml\"\n",
    "TGT_FILE = \"organelle_content.txt\""
   ]
  },
  {
   "cell_type": "code",
   "execution_count": 3,
   "id": "98c5953a",
   "metadata": {},
   "outputs": [],
   "source": [
    "labels = yaml.safe_load(open(LABELS))\n",
    "data = TypeAdapter(DataConfig).validate_python(yaml.safe_load(open(DATA)))\n",
    "tgt_file = open(TGT_FILE, \"w\")"
   ]
  },
  {
   "cell_type": "code",
   "execution_count": 4,
   "id": "a0f491f4",
   "metadata": {},
   "outputs": [],
   "source": [
    "atomic_labels = {k: v for k, v in labels.items() if len(v) == 1}\n",
    "compound_labels = {k: v for k, v in labels.items() if len(v) > 1}"
   ]
  },
  {
   "cell_type": "code",
   "execution_count": 5,
   "id": "e9c6980d",
   "metadata": {},
   "outputs": [],
   "source": [
    "for dataset, datainfo in data.datasets.items():\n",
    "    tgt_file.write(dataset + \"\\n\")\n",
    "    tgt_file.write(\"-\" * 20 + \"\\n\")\n",
    "    for crop in datainfo.labels.crops:\n",
    "        for c in crop.split(\",\"):\n",
    "            zarr_crop = zarr.open(os.path.join(datainfo.labels.data,\n",
    "                                               datainfo.labels.group, c),\n",
    "                                  mode=\"r\")\n",
    "            annotated_labels = zarr_crop.attrs[\"cellmap\"][\"annotation\"][\n",
    "                \"class_names\"]\n",
    "\n",
    "            zg, _, _, _ = utils.find_target_scale(\n",
    "                zarr_crop[annotated_labels[0]], {\n",
    "                    \"x\": 8,\n",
    "                    \"y\": 8,\n",
    "                    \"z\": 8\n",
    "                })\n",
    "            size = int(np.prod(zarr_crop[annotated_labels[0]][zg].shape))\n",
    "            tgt_file.write(f\"{c}: {size:.2e}\\n\")\n",
    "            composition = []\n",
    "            for label in set(\n",
    "                    atomic_labels.keys()).intersection(annotated_labels):\n",
    "                label_zarr = zarr_crop[label][\"s0\"]\n",
    "                counts = label_zarr.attrs[\"cellmap\"][\"annotation\"][\n",
    "                    \"complement_counts\"]\n",
    "                if \"present\" in counts and counts[\"present\"] > 0:\n",
    "                    composition.append(\n",
    "                        (label,\n",
    "                         float(counts[\"present\"] / np.prod(label_zarr.shape))))\n",
    "            composition = sorted(composition, key=lambda x: x[1], reverse=True)\n",
    "            if not np.isclose(sum(fr for _, fr in composition), 1.0):\n",
    "                msg = f\"Warning: sum of fractions is not 1.0 ({sum(fr for _, fr in composition):.2f})\"\n",
    "                for label in set(\n",
    "                        compound_labels.keys()).intersection(annotated_labels):\n",
    "                    label_zarr = zarr_crop[label][\"s0\"]\n",
    "                    counts = label_zarr.attrs[\"cellmap\"][\"annotation\"][\n",
    "                        \"complement_counts\"]\n",
    "                    if \"present\" in counts and counts[\"present\"] > 0:\n",
    "                        composition.append((label,\n",
    "                                            float(counts[\"present\"] /\n",
    "                                                  np.prod(label_zarr.shape))))\n",
    "            for label, fraction in composition:\n",
    "                tgt_file.write(\n",
    "                    f\"\\t{label}: {fraction*100:.2f}%\\n\".expandtabs(4))\n",
    "    tgt_file.write(\"-\" * 60 + \"\\n\")\n",
    "tgt_file.close()\n"
   ]
  },
  {
   "cell_type": "code",
   "execution_count": null,
   "id": "b2b3bcab",
   "metadata": {},
   "outputs": [],
   "source": []
  }
 ],
 "metadata": {
  "kernelspec": {
   "display_name": "organelle-mapping",
   "language": "python",
   "name": "python3"
  },
  "language_info": {
   "codemirror_mode": {
    "name": "ipython",
    "version": 3
   },
   "file_extension": ".py",
   "mimetype": "text/x-python",
   "name": "python",
   "nbconvert_exporter": "python",
   "pygments_lexer": "ipython3",
   "version": "3.12.9"
  }
 },
 "nbformat": 4,
 "nbformat_minor": 5
}
