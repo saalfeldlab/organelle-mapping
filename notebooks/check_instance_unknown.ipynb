{
 "cells": [
  {
   "cell_type": "code",
   "execution_count": 1,
   "metadata": {},
   "outputs": [],
   "source": [
    "import yaml\n",
    "import zarr\n",
    "import numpy as np\n",
    "import os"
   ]
  },
  {
   "cell_type": "code",
   "execution_count": 2,
   "metadata": {},
   "outputs": [],
   "source": [
    "with open(\"../all_data.yaml\", \"r\") as stream:\n",
    "    all_data = yaml.safe_load(stream)"
   ]
  },
  {
   "cell_type": "code",
   "execution_count": 5,
   "metadata": {},
   "outputs": [
    {
     "name": "stdout",
     "output_type": "stream",
     "text": [
      "jrc_cos7-1a crop247 vim 582, \n",
      "jrc_fly-vnc-1 crop78 ves 325, \n",
      "jrc_fly-vnc-1 crop79 ves 337, \n",
      "jrc_mus-kidney crop129 ves 329, \n",
      "jrc_mus-liver-zon-1 crop407 perox 361, \n",
      "jrc_mus-liver-zon-2 crop408 perox 392, \n",
      "jrc_mus-nacc-1 crop115 ves 329, \n",
      "jrc_zf-cardiac-1 crop380 mito 271, \n"
     ]
    }
   ],
   "source": [
    "invalids = []\n",
    "for dataset, dataset_info in all_data[\"datasets\"].items():\n",
    "    label_info = dataset_info[\"labels\"]\n",
    "    zarr_ds = zarr.open(os.path.join(label_info[\"data\"], label_info[\"group\"]), \"r\")\n",
    "    for crop in label_info[\"crops\"]:\n",
    "        class_names = zarr_ds[crop].attrs[\"cellmap\"][\"annotation\"][\"class_names\"]\n",
    "        for class_name in class_names:\n",
    "            if zarr_ds[crop][class_name].attrs[\"cellmap\"][\"annotation\"][\"annotation_type\"][\"type\"] == \"instance_segmentation\":\n",
    "                ids = np.unique(zarr_ds[crop][class_name][\"s0\"])\n",
    "                if max(ids) > 254:\n",
    "                    invalids.append((dataset, crop, class_name))\n",
    "                    print(f\"{dataset} {crop} {class_name} {max(ids)}, \")"
   ]
  },
  {
   "cell_type": "code",
   "execution_count": 3,
   "metadata": {},
   "outputs": [],
   "source": [
    "invalids = [(\"jrc_cos7-1a\", \"crop247\", \"vim\"),\n",
    "            (\"jrc_fly-vnc-1\", \"crop78\", \"ves\"),\n",
    "            (\"jrc_fly-vnc-1\", \"crop79\", \"ves\"),\n",
    "            (\"jrc_mus-kidney\", \"crop129\", \"ves\"),\n",
    "            (\"jrc_mus-liver-zon-1\", \"crop407\", \"perox\"),\n",
    "            (\"jrc_mus-liver-zon-2\", \"crop408\", \"perox\"),\n",
    "            (\"jrc_mus-nacc-1\", \"crop115\", \"ves\"),\n",
    "            (\"jrc_zf-cardiac-1\", \"crop380\", \"mito\")]"
   ]
  },
  {
   "cell_type": "code",
   "execution_count": 5,
   "metadata": {},
   "outputs": [
    {
     "name": "stdout",
     "output_type": "stream",
     "text": [
      "255\n",
      "65535\n",
      "65535\n",
      "65535\n",
      "65535\n",
      "65535\n",
      "65535\n",
      "65535\n"
     ]
    }
   ],
   "source": [
    "for dataset, crop, label in invalids:\n",
    "    dataset_info = all_data[\"datasets\"][dataset]\n",
    "    label_info = dataset_info[\"labels\"]\n",
    "    zarr_ds = zarr.open(os.path.join(label_info[\"data\"], label_info[\"group\"]), \"r\")\n",
    "    print(zarr_ds[crop][label].attrs[\"cellmap\"][\"annotation\"][\"annotation_type\"][\"encoding\"][\"unknown\"])"
   ]
  },
  {
   "cell_type": "code",
   "execution_count": null,
   "metadata": {},
   "outputs": [],
   "source": [
    "for dataset, dataset_info in all_data[\"datasets\"].items():\n",
    "    label_info = dataset_info[\"labels\"]\n",
    "    zarr_ds = zarr.open(os.path.join(label_info[\"data\"], label_info[\"group\"]), \"r\")\n",
    "    for crop in label_info[\"crops\"]:\n",
    "        class_names = zarr_ds[crop].attrs[\"cellmap\"][\"annotation\"][\"class_names\"]\n",
    "        np.unique(zarr_ds[crop][\"all\"])\n",
    "        for class_name in class_names:\n",
    "            if zarr_ds[crop][class_name].attrs[\"cellmap\"][\"annotation\"][\"annotation_type\"][\"type\"] == \"instance_segmentation\":\n",
    "                ids = np.unique(zarr_ds[crop][class_name][\"s0\"])\n",
    "                if max(ids) > 254:\n",
    "                    invalids.append((dataset, crop, class_name))\n",
    "                    print(f\"{dataset} {crop} {class_name} {max(ids)}, \")"
   ]
  }
 ],
 "metadata": {
  "kernelspec": {
   "display_name": "fly_organelles",
   "language": "python",
   "name": "python3"
  },
  "language_info": {
   "codemirror_mode": {
    "name": "ipython",
    "version": 3
   },
   "file_extension": ".py",
   "mimetype": "text/x-python",
   "name": "python",
   "nbconvert_exporter": "python",
   "pygments_lexer": "ipython3",
   "version": "3.11.10"
  }
 },
 "nbformat": 4,
 "nbformat_minor": 2
}
