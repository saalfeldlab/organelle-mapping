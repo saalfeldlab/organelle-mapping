{
 "cells": [
  {
   "cell_type": "code",
   "execution_count": 52,
   "metadata": {},
   "outputs": [],
   "source": [
    "import yaml\n",
    "import fibsem_tools as fst\n",
    "from pathlib import Path"
   ]
  },
  {
   "cell_type": "code",
   "execution_count": 53,
   "metadata": {},
   "outputs": [],
   "source": [
    "with open(\"../funky_offsets.yaml\", \"r\") as f:\n",
    "    all_data = yaml.safe_load(f)"
   ]
  },
  {
   "cell_type": "code",
   "execution_count": 54,
   "metadata": {},
   "outputs": [],
   "source": [
    "with open(\"../vetted.yaml\", \"r\") as f:\n",
    "    vetted = yaml.safe_load(f)"
   ]
  },
  {
   "cell_type": "code",
   "execution_count": 55,
   "metadata": {},
   "outputs": [
    {
     "name": "stdout",
     "output_type": "stream",
     "text": [
      "crop243 - labels:  [2.0, 2.0, 2.0] - raw: [2.0, 2.0, 2.0]\n",
      "[1.0, 1556.0, 9001.0]\n",
      "[0.0, 0.0, 0.0]\n",
      "crop119 - labels:  [2.0, 2.0, 2.0] - raw: [4.0, 4.0, 4.0]\n",
      "[10156.0, 3660.0, 19088.0]\n",
      "[0.0, 0.0, 0.0]\n",
      "crop23 - labels:  [2.0, 2.0, 2.0] - raw: [4.0, 4.0, 4.0]\n",
      "[8124.0, 1120.0, 11000.0]\n",
      "[0.0, 0.0, 0.0]\n",
      "crop33 - labels:  [2.0, 2.0, 2.0] - raw: [4.0, 4.0, 4.0]\n",
      "[22604.0, 920.0, 13800.0]\n",
      "[0.0, 0.0, 0.0]\n",
      "crop50 - labels:  [2.0, 2.0, 2.0] - raw: [4.0, 4.0, 4.0]\n",
      "[26432.0, 328.0, 37092.0]\n",
      "[0.0, 0.0, 0.0]\n",
      "crop182 - labels:  [2.0, 2.0, 2.0] - raw: [4.0, 4.0, 4.0]\n",
      "[14800.0, 5188.0, 20560.0]\n",
      "[0.0, 0.0, 0.0]\n",
      "crop221 - labels:  [16.0, 16.0, 16.0] - raw: [8.0, 8.0, 8.0]\n",
      "[86800.0, 32200.0, 35776.0]\n",
      "[0.0, 0.0, 0.0]\n",
      "crop362 - labels:  [32.0, 32.0, 32.0] - raw: [8.0, 8.0, 8.0]\n",
      "[2096.0, 4688.0, 20816.0]\n",
      "[0.0, 0.0, 0.0]\n",
      "crop378 - labels:  [32.0, 32.0, 32.0] - raw: [8, 8, 8]\n",
      "[251200.0, 48000.0, 67200.0]\n",
      "[0.0, 0.0, 0.0]\n"
     ]
    }
   ],
   "source": [
    "for dataset_name, dataset in all_data[\"datasets\"].items():\n",
    "    for crops in dataset[\"crops\"]:\n",
    "        for crop in crops.split(\",\"):\n",
    "            if crop in vetted:\n",
    "                fzarr = fst.read(Path(all_data[\"gt_path\"]) / dataset_name / \"groundtruth.zarr\" / crop)\n",
    "                frawzarr = fst.read(Path(dataset[\"raw\"]))\n",
    "                print(crop, \"- labels: \", fzarr[\"all\"].attrs.asdict()[\"multiscales\"][0][\"datasets\"][0][\"coordinateTransformations\"][0][\"scale\"], \"- raw:\", frawzarr.attrs.asdict()[\"multiscales\"][0][\"datasets\"][0][\"coordinateTransformations\"][0][\"scale\"])\n",
    "                print(fzarr[\"all\"].attrs.asdict()[\"multiscales\"][0][\"datasets\"][0][\"coordinateTransformations\"][1][\"translation\"])\n",
    "                print(frawzarr.attrs.asdict()[\"multiscales\"][0][\"datasets\"][0][\"coordinateTransformations\"][1][\"translation\"])"
   ]
  },
  {
   "cell_type": "code",
   "execution_count": null,
   "metadata": {},
   "outputs": [],
   "source": []
  },
  {
   "cell_type": "code",
   "execution_count": null,
   "metadata": {},
   "outputs": [],
   "source": []
  }
 ],
 "metadata": {
  "kernelspec": {
   "display_name": "fly-organelles_dev_3.10",
   "language": "python",
   "name": "python3"
  },
  "language_info": {
   "codemirror_mode": {
    "name": "ipython",
    "version": 3
   },
   "file_extension": ".py",
   "mimetype": "text/x-python",
   "name": "python",
   "nbconvert_exporter": "python",
   "pygments_lexer": "ipython3",
   "version": "3.10.14"
  }
 },
 "nbformat": 4,
 "nbformat_minor": 2
}
