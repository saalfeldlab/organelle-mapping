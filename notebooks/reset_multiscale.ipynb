{
 "cells": [
  {
   "cell_type": "code",
   "execution_count": null,
   "id": "3260401f",
   "metadata": {},
   "outputs": [],
   "source": [
    "import yaml\n",
    "from pathlib import Path\n",
    "import zarr\n",
    "import fly_organelles.utils as utils\n",
    "\n"
   ]
  },
  {
   "cell_type": "code",
   "execution_count": null,
   "id": "5d879dd3",
   "metadata": {},
   "outputs": [],
   "source": [
    "data_config = open(\"../all_data.yaml\", \"r\")"
   ]
  },
  {
   "cell_type": "code",
   "execution_count": null,
   "id": "6535fa14",
   "metadata": {},
   "outputs": [],
   "source": [
    "def remove_multiscale(zarr_grp, multiscale_name):\n",
    "    print(f\"Removing {multiscale_name} from {zarr_grp.store.path} {zarr_grp.path}\")\n",
    "    multiscales = zarr_grp.attrs[\"multiscales\"]\n",
    "    multiscales = [ms for ms in multiscales if ms[\"name\"] != multiscale_name]\n",
    "    zarr_grp.attrs[\"multiscales\"] = multiscales\n",
    "    zarr_grp.attrs.update(zarr_grp.attrs)"
   ]
  },
  {
   "cell_type": "code",
   "execution_count": null,
   "id": "8e7b457d",
   "metadata": {},
   "outputs": [],
   "source": [
    "datas = yaml.safe_load(data_config)\n",
    "for key, ds_info in datas[\"datasets\"].items():\n",
    "    print(f\"Processing {key}\")\n",
    "    # check raw data to see if it is isotropic\n",
    "    raw_zarr_grp = zarr.open(\n",
    "        Path(ds_info[\"em\"][\"data\"]) / ds_info[\"em\"][\"group\"], \"r+\"\n",
    "    )\n",
    "    raw_multiscales = utils.get_multiscale_names(raw_zarr_grp)\n",
    "    if \"nominal\" in raw_multiscales and \"estimated\" in raw_multiscales:\n",
    "        # keep estimated only\n",
    "        remove_multiscale(raw_zarr_grp, \"nominal\")\n",
    "    \n",
    "        # prepend_multiscale(raw_zarr_grp, ms_nominal.model_dump())\n",
    "    for crop in ds_info[\"labels\"][\"crops\"]:\n",
    "        for cropname in crop.split(\",\"):\n",
    "            print(f\"Processing {cropname}\")\n",
    "            crop_grp = zarr.open(\n",
    "                Path(ds_info[\"labels\"][\"data\"])\n",
    "                / ds_info[\"labels\"][\"group\"]\n",
    "                / cropname,\n",
    "                \"r+\",\n",
    "            )\n",
    "            annotated_classes = set(\n",
    "                crop_grp.attrs[\"cellmap\"][\"annotation\"][\"class_names\"]\n",
    "            )\n",
    "            for class_name in sorted(annotated_classes):\n",
    "                annotated_multiscales = utils.get_multiscale_names(\n",
    "                    crop_grp[class_name]\n",
    "                )\n",
    "                if \"nominal\" in annotated_multiscales and \"estimated\" in annotated_multiscales:\n",
    "                    # keep estimated only\n",
    "                    remove_multiscale(crop_grp[class_name], \"nominal\")\n",
    "                "
   ]
  },
  {
   "cell_type": "code",
   "execution_count": null,
   "id": "21f27b7a",
   "metadata": {},
   "outputs": [],
   "source": [
    "datas"
   ]
  },
  {
   "cell_type": "code",
   "execution_count": null,
   "id": "2874c68a",
   "metadata": {},
   "outputs": [],
   "source": []
  }
 ],
 "metadata": {
  "kernelspec": {
   "display_name": "fly_organelles",
   "language": "python",
   "name": "python3"
  },
  "language_info": {
   "codemirror_mode": {
    "name": "ipython",
    "version": 3
   },
   "file_extension": ".py",
   "mimetype": "text/x-python",
   "name": "python",
   "nbconvert_exporter": "python",
   "pygments_lexer": "ipython3",
   "version": "3.11.10"
  }
 },
 "nbformat": 4,
 "nbformat_minor": 5
}
