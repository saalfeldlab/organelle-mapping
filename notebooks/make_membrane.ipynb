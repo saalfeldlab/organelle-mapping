{
 "cells": [
  {
   "cell_type": "code",
   "execution_count": null,
   "metadata": {},
   "outputs": [],
   "source": [
    "import fibsem_tools as fst\n",
    "import matplotlib.pyplot as plt\n",
    "import numpy as np\n",
    "from skimage.morphology import binary_erosion, binary_dilation, ball\n",
    "from scipy.spatial.distance import dice\n",
    "import yaml\n",
    "from pathlib import Path\n",
    "import multiprocessing\n",
    "import json\n",
    "import logging\n",
    "from mpl_interactions import hyperslicer\n",
    "\n",
    "%matplotlib ipympl"
   ]
  },
  {
   "cell_type": "code",
   "execution_count": null,
   "metadata": {},
   "outputs": [],
   "source": [
    "def make_fake_mem(combo, radius, return_lumen = False):\n",
    "    r = radius * 2 //2\n",
    "    strict = (radius*2)%2 ==0\n",
    "    mem = combo ^ binary_erosion(combo, ball(r, strict_radius=strict))\n",
    "    if return_lumen:\n",
    "        lumen = combo \n",
    "    else:\n",
    "        return mem\n",
    "def get_best_fake_mem(combo, mem, *, return_arr=True):\n",
    "    mem = mem[:]\n",
    "    combo = combo[:]\n",
    "    best_match_score = 1.\n",
    "    best_radius = 0\n",
    "    for radius in np.arange(1,11, 0.5):\n",
    "        fake_mem = make_fake_mem(combo, radius)\n",
    "        score = dice(fake_mem.flatten(), mem[:].flatten())\n",
    "        if score < best_match_score:\n",
    "            best_radius = radius\n",
    "            best_match_score = score\n",
    "            #radius = r + 0.5 * (not strict)\n",
    "    if return_arr:\n",
    "        fake_mem = make_fake_mem(combo, best_radius)\n",
    "        return fake_mem, best_radius, 1-best_match_score\n",
    "    else:\n",
    "        return best_radius, 1-best_match_score"
   ]
  },
  {
   "cell_type": "code",
   "execution_count": null,
   "metadata": {},
   "outputs": [],
   "source": [
    "with open(\"../selected_data_8nm_mem+org.yaml\") as f:\n",
    "    data = yaml.safe_load(f)"
   ]
  },
  {
   "cell_type": "code",
   "execution_count": null,
   "metadata": {},
   "outputs": [],
   "source": [
    "all_paths = []\n",
    "for dataset, dataset_info in data[\"datasets\"].items():\n",
    "    for crops in dataset_info[\"crops\"]:\n",
    "        for crop in crops.split(\",\"):\n",
    "            crop_path = Path(data[\"gt_path\"])/dataset/\"groundtruth.zarr\" /crop\n",
    "            all_paths.append(crop_path)"
   ]
  },
  {
   "cell_type": "code",
   "execution_count": null,
   "metadata": {},
   "outputs": [],
   "source": [
    "def process_func(crop_path, combo_name=\"er\", mem_name=\"er_mem_all\"):\n",
    "    crop_zarr = fst.read(crop_path)\n",
    "    if all(cl in crop_zarr.attrs[\"cellmap\"][\"annotation\"][\"class_names\"] for cl in [combo_name, mem_name]):\n",
    "        combo = fst.read(crop_path / combo_name / \"s0\")\n",
    "        complement = sum(v for v in combo.attrs[\"cellmap\"][\"annotation\"][\"complement_counts\"].values())\n",
    "        present = np.prod(combo.shape) - complement\n",
    "        if present > 0:\n",
    "            mem = fst.read(crop_path / mem_name / \"s0\")\n",
    "            best_radius, best_match_score = get_best_fake_mem(combo, mem, return_arr=False)\n",
    "            return best_radius, best_match_score\n",
    "    return None, None"
   ]
  },
  {
   "cell_type": "code",
   "execution_count": null,
   "metadata": {},
   "outputs": [],
   "source": [
    "def get_corresponding_raw(crop_path, data):\n",
    "    for dataset in data[\"datasets\"].keys():\n",
    "        if dataset in crop_path:\n",
    "            raw = fst.read_xarray(data[\"datasets\"][dataset][\"raw\"])\n",
    "            crop = fst.read_xarray(Path(crop_path)/\"all\"/\"s0\")\n",
    "            return raw[\"s0\"].interp(crop.coords)\n",
    "    msg = f\"Did not find raw for {crop_path}\"\n",
    "    raise ValueError(msg)\n"
   ]
  },
  {
   "cell_type": "code",
   "execution_count": null,
   "metadata": {},
   "outputs": [],
   "source": [
    "pairs = [(\"er\", \"er_mem_all\"), (\"golgi\", \"golgi_mem\"), (\"endo\", \"endo_mem\"), (\"ves\", \"ves_mem\"), \n",
    "         (\"lyso\", \"lyso_mem\"), (\"ld\", \"ld_mem\"), (\"perox\", \"perox_mem\")]\n",
    "def all_process_func(path):\n",
    "    result_dict = {}\n",
    "    for combo_name, mem_name in pairs:\n",
    "        result_dict[combo_name] = process_func(path, combo_name=combo_name, mem_name=mem_name)\n",
    "    return result_dict\n"
   ]
  },
  {
   "cell_type": "code",
   "execution_count": null,
   "metadata": {},
   "outputs": [],
   "source": [
    "if Path(\"../erosions.json\").exists():\n",
    "    with open(\"../erosions.json\") as f:\n",
    "        all_results = json.load(f)\n",
    "else:\n",
    "    pool_obj = multiprocessing.Pool(44)\n",
    "    ans = pool_obj.map(all_process_func,all_paths)\n",
    "    all_results = {}\n",
    "    for k, v in zip(all_paths, ans):\n",
    "        all_results[str(k)] = v\n",
    "    with open(\"../erosions.json\", \"w\") as f:\n",
    "        json.dump(all_results, f)"
   ]
  },
  {
   "cell_type": "code",
   "execution_count": null,
   "metadata": {},
   "outputs": [],
   "source": [
    "class ResultsIterator:\n",
    "    def __init__(self, data, required_classes = (\"mito\", \"mito_mem\")):\n",
    "        self.data = data\n",
    "        self.iterator = iter(data.items())\n",
    "        self.required_classes = required_classes\n",
    "\n",
    "    def __iter__(self):\n",
    "        return self\n",
    "\n",
    "    def __next__(self):\n",
    "        while True:\n",
    "            path, result = next(self.iterator)  # Get the next item\n",
    "            try:\n",
    "                if all(cl in fst.read(Path(path)).attrs[\"cellmap\"][\"annotation\"][\"class_names\"] for cl in self.required_classes):\n",
    "                    return path, result  # Return the item if condition is met\n",
    "            except (OSError, KeyError, AttributeError) as e:\n",
    "                # Handle cases where path doesn't exist or structure is not as expected\n",
    "                logging.warning(f\"Skipping {path} due to error: {e}\")\n",
    "                continue  # Skip to the next item\n",
    "class PairsIterator:\n",
    "    def __init__(self, pairs, result):\n",
    "        self.iterator = iter(pairs)\n",
    "        self.result = result\n",
    "\n",
    "    def __iter__(self):\n",
    "        return self\n",
    "\n",
    "    def __next__(self):\n",
    "        while True:\n",
    "            combo_name, mem_name = next(self.iterator)  # Get the next item\n",
    "            try:\n",
    "                if self.result[combo_name][0] is not None and self.result[combo_name][1] is not None:\n",
    "                    return combo_name, mem_name  # Return the item if condition is met\n",
    "            except KeyError as e:\n",
    "                # Handle cases where path doesn't exist or structure is not as expected\n",
    "                logging.warning(f\"Skipping {combo_name} due to error: {e}\")\n",
    "                continue  # Skip to the next item\n"
   ]
  },
  {
   "cell_type": "code",
   "execution_count": null,
   "metadata": {},
   "outputs": [],
   "source": [
    "results_iter = ResultsIterator(all_results)"
   ]
  },
  {
   "cell_type": "code",
   "execution_count": null,
   "metadata": {},
   "outputs": [],
   "source": [
    "i = 0\n",
    "while i< 10:\n",
    "    path, result = next(results_iter)\n",
    "    print(path)\n",
    "    i += 1"
   ]
  },
  {
   "cell_type": "code",
   "execution_count": null,
   "metadata": {},
   "outputs": [],
   "source": [
    "path, result = next(results_iter)\n",
    "mito = fst.read(Path(path) / \"mito\" / \"s0\")\n",
    "mito_mem = fst.read(Path(path)/ \"mito_mem\" / \"s0\")\n",
    "raw = np.array(get_corresponding_raw(path, data).data)\n",
    "print(f\"path: {path}; sum: {np.sum(mito_mem)}\")"
   ]
  },
  {
   "cell_type": "code",
   "execution_count": null,
   "metadata": {},
   "outputs": [],
   "source": [
    "radii_to_lbl = {}\n",
    "for combo_name, _ in PairsIterator(pairs, result):\n",
    "    if result[combo_name][0] in radii_to_lbl.keys():\n",
    "        radii_to_lbl[result[combo_name][0]].append(combo_name)\n",
    "    else:\n",
    "        radii_to_lbl[result[combo_name][0]] = [combo_name]\n",
    "\n",
    "radii_to_mito_mem_mems = {}\n",
    "for radius in radii_to_lbl.keys():\n",
    "    radii_to_mito_mem_mems[radius] = make_fake_mem(mito_mem, radius)\n",
    "fig, axs = plt.subplots(2,1+len(radii_to_lbl), figsize=(5*(1+len(radii_to_lbl)), 15))\n",
    "fig.suptitle(f\"{path}\")\n",
    "ssp = 2\n",
    "radii_iterator = iter(radii_to_lbl.items())\n",
    "\n",
    "control1 = hyperslicer(raw[::ssp,...], play_buttons=True, play_button_pos=\"left\", ax = axs[0][0], title=\"raw\", cmap=\"Greys_r\",vmin=0,vmax=255)\n",
    "_ = hyperslicer(mito_mem[::ssp,...], play_buttons=True, play_button_pos=\"left\", ax = axs[1][0], controls=control1, title=f\"mito_mem\", cmap=\"inferno\")\n",
    "for k, (radius, lbl) in enumerate(radii_iterator):\n",
    "    _ = hyperslicer(raw[::ssp,...], play_buttons=True, play_button_pos=\"left\", ax = axs[0][k+1], cmap=\"Greys_r\", controls=control1)\n",
    "    _ = hyperslicer(radii_to_mito_mem_mems[radius][::ssp,...], play_buttons=True, play_button_pos=\"left\", ax = axs[0][k+1], controls=control1, title=f\"{radius=},{lbl}\", cmap=\"inferno\", alpha=0.5)\n",
    "    _ = hyperslicer(radii_to_mito_mem_mems[radius][::ssp,...], play_buttons=True, play_button_pos=\"left\", ax = axs[1][k+1], controls=control1, title=f\"{radius=},{lbl}\", cmap=\"inferno\")\n"
   ]
  },
  {
   "cell_type": "code",
   "execution_count": null,
   "metadata": {},
   "outputs": [],
   "source": [
    "plt.close(\"all\")"
   ]
  },
  {
   "cell_type": "code",
   "execution_count": null,
   "metadata": {},
   "outputs": [],
   "source": []
  }
 ],
 "metadata": {
  "kernelspec": {
   "display_name": "fly-organelles_dev_3.10",
   "language": "python",
   "name": "python3"
  },
  "language_info": {
   "codemirror_mode": {
    "name": "ipython",
    "version": 3
   },
   "file_extension": ".py",
   "mimetype": "text/x-python",
   "name": "python",
   "nbconvert_exporter": "python",
   "pygments_lexer": "ipython3",
   "version": "3.10.14"
  }
 },
 "nbformat": 4,
 "nbformat_minor": 2
}
